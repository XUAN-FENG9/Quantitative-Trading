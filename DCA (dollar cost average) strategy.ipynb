{
 "cells": [
  {
   "cell_type": "code",
   "execution_count": 5,
   "id": "b934f037-5395-4896-a62f-20c71121b4ff",
   "metadata": {},
   "outputs": [],
   "source": [
    "import numpy as np\n",
    "import pandas as pd\n",
    "import matplotlib.pyplot as plt\n",
    "import yfinance as yf\n",
    "import math\n",
    "import backtrader as bt"
   ]
  },
  {
   "cell_type": "markdown",
   "id": "5f724229-d7a9-4a50-a11a-af76ed0da54a",
   "metadata": {},
   "source": [
    "## Geet data"
   ]
  },
  {
   "cell_type": "code",
   "execution_count": 18,
   "id": "a38df2e4-ccb5-4930-99bc-1028b5d761eb",
   "metadata": {},
   "outputs": [],
   "source": [
    "ticker = [\"SPY\"]\n",
    "endDate = pd.to_datetime(\"now\")\n",
    "startDate = endDate - pd.DateOffset(days = 2520)"
   ]
  },
  {
   "cell_type": "code",
   "execution_count": 32,
   "id": "42a23c4e-9c61-4667-aa53-da7dfeaf1004",
   "metadata": {},
   "outputs": [
    {
     "name": "stderr",
     "output_type": "stream",
     "text": [
      "[*********************100%***********************]  1 of 1 completed\n"
     ]
    }
   ],
   "source": [
    "stockData = yf.download(ticker, startDate, endDate)\n",
    "stockData.columns = stockData.columns.droplevel(1)\n",
    "stockData.columns.name = None\n",
    "stockData.index = pd.to_datetime(stockData.index).tz_localize(None)"
   ]
  },
  {
   "cell_type": "code",
   "execution_count": 34,
   "id": "3801fd12-966a-4470-95db-7782311309ec",
   "metadata": {},
   "outputs": [
    {
     "data": {
      "text/html": [
       "<div>\n",
       "<style scoped>\n",
       "    .dataframe tbody tr th:only-of-type {\n",
       "        vertical-align: middle;\n",
       "    }\n",
       "\n",
       "    .dataframe tbody tr th {\n",
       "        vertical-align: top;\n",
       "    }\n",
       "\n",
       "    .dataframe thead th {\n",
       "        text-align: right;\n",
       "    }\n",
       "</style>\n",
       "<table border=\"1\" class=\"dataframe\">\n",
       "  <thead>\n",
       "    <tr style=\"text-align: right;\">\n",
       "      <th></th>\n",
       "      <th>Adj Close</th>\n",
       "      <th>Close</th>\n",
       "      <th>High</th>\n",
       "      <th>Low</th>\n",
       "      <th>Open</th>\n",
       "      <th>Volume</th>\n",
       "    </tr>\n",
       "    <tr>\n",
       "      <th>Date</th>\n",
       "      <th></th>\n",
       "      <th></th>\n",
       "      <th></th>\n",
       "      <th></th>\n",
       "      <th></th>\n",
       "      <th></th>\n",
       "    </tr>\n",
       "  </thead>\n",
       "  <tbody>\n",
       "    <tr>\n",
       "      <th>2018-01-04</th>\n",
       "      <td>243.345963</td>\n",
       "      <td>271.609985</td>\n",
       "      <td>272.160004</td>\n",
       "      <td>270.540009</td>\n",
       "      <td>271.200012</td>\n",
       "      <td>80636400</td>\n",
       "    </tr>\n",
       "    <tr>\n",
       "      <th>2018-01-05</th>\n",
       "      <td>244.967606</td>\n",
       "      <td>273.420013</td>\n",
       "      <td>273.559998</td>\n",
       "      <td>271.950012</td>\n",
       "      <td>272.510010</td>\n",
       "      <td>83524000</td>\n",
       "    </tr>\n",
       "    <tr>\n",
       "      <th>2018-01-08</th>\n",
       "      <td>245.415634</td>\n",
       "      <td>273.920013</td>\n",
       "      <td>274.100006</td>\n",
       "      <td>272.980011</td>\n",
       "      <td>273.309998</td>\n",
       "      <td>57319200</td>\n",
       "    </tr>\n",
       "    <tr>\n",
       "      <th>2018-01-09</th>\n",
       "      <td>245.971115</td>\n",
       "      <td>274.540009</td>\n",
       "      <td>275.250000</td>\n",
       "      <td>274.079987</td>\n",
       "      <td>274.399994</td>\n",
       "      <td>57254000</td>\n",
       "    </tr>\n",
       "    <tr>\n",
       "      <th>2018-01-10</th>\n",
       "      <td>245.594788</td>\n",
       "      <td>274.119995</td>\n",
       "      <td>274.420013</td>\n",
       "      <td>272.920013</td>\n",
       "      <td>273.679993</td>\n",
       "      <td>69574300</td>\n",
       "    </tr>\n",
       "    <tr>\n",
       "      <th>...</th>\n",
       "      <td>...</td>\n",
       "      <td>...</td>\n",
       "      <td>...</td>\n",
       "      <td>...</td>\n",
       "      <td>...</td>\n",
       "      <td>...</td>\n",
       "    </tr>\n",
       "    <tr>\n",
       "      <th>2024-11-21</th>\n",
       "      <td>593.669983</td>\n",
       "      <td>593.669983</td>\n",
       "      <td>595.119995</td>\n",
       "      <td>587.450012</td>\n",
       "      <td>593.400024</td>\n",
       "      <td>46750300</td>\n",
       "    </tr>\n",
       "    <tr>\n",
       "      <th>2024-11-22</th>\n",
       "      <td>595.510010</td>\n",
       "      <td>595.510010</td>\n",
       "      <td>596.150024</td>\n",
       "      <td>593.150024</td>\n",
       "      <td>593.659973</td>\n",
       "      <td>38226400</td>\n",
       "    </tr>\n",
       "    <tr>\n",
       "      <th>2024-11-25</th>\n",
       "      <td>597.530029</td>\n",
       "      <td>597.530029</td>\n",
       "      <td>600.859985</td>\n",
       "      <td>595.200012</td>\n",
       "      <td>599.520020</td>\n",
       "      <td>42441400</td>\n",
       "    </tr>\n",
       "    <tr>\n",
       "      <th>2024-11-26</th>\n",
       "      <td>600.650024</td>\n",
       "      <td>600.650024</td>\n",
       "      <td>601.330017</td>\n",
       "      <td>598.070007</td>\n",
       "      <td>598.799988</td>\n",
       "      <td>45621300</td>\n",
       "    </tr>\n",
       "    <tr>\n",
       "      <th>2024-11-27</th>\n",
       "      <td>598.830017</td>\n",
       "      <td>598.830017</td>\n",
       "      <td>600.849976</td>\n",
       "      <td>597.280029</td>\n",
       "      <td>600.460022</td>\n",
       "      <td>33972800</td>\n",
       "    </tr>\n",
       "  </tbody>\n",
       "</table>\n",
       "<p>1737 rows × 6 columns</p>\n",
       "</div>"
      ],
      "text/plain": [
       "             Adj Close       Close        High         Low        Open  \\\n",
       "Date                                                                     \n",
       "2018-01-04  243.345963  271.609985  272.160004  270.540009  271.200012   \n",
       "2018-01-05  244.967606  273.420013  273.559998  271.950012  272.510010   \n",
       "2018-01-08  245.415634  273.920013  274.100006  272.980011  273.309998   \n",
       "2018-01-09  245.971115  274.540009  275.250000  274.079987  274.399994   \n",
       "2018-01-10  245.594788  274.119995  274.420013  272.920013  273.679993   \n",
       "...                ...         ...         ...         ...         ...   \n",
       "2024-11-21  593.669983  593.669983  595.119995  587.450012  593.400024   \n",
       "2024-11-22  595.510010  595.510010  596.150024  593.150024  593.659973   \n",
       "2024-11-25  597.530029  597.530029  600.859985  595.200012  599.520020   \n",
       "2024-11-26  600.650024  600.650024  601.330017  598.070007  598.799988   \n",
       "2024-11-27  598.830017  598.830017  600.849976  597.280029  600.460022   \n",
       "\n",
       "              Volume  \n",
       "Date                  \n",
       "2018-01-04  80636400  \n",
       "2018-01-05  83524000  \n",
       "2018-01-08  57319200  \n",
       "2018-01-09  57254000  \n",
       "2018-01-10  69574300  \n",
       "...              ...  \n",
       "2024-11-21  46750300  \n",
       "2024-11-22  38226400  \n",
       "2024-11-25  42441400  \n",
       "2024-11-26  45621300  \n",
       "2024-11-27  33972800  \n",
       "\n",
       "[1737 rows x 6 columns]"
      ]
     },
     "execution_count": 34,
     "metadata": {},
     "output_type": "execute_result"
    }
   ],
   "source": [
    "stockData"
   ]
  },
  {
   "cell_type": "code",
   "execution_count": 36,
   "id": "ebd53a4b-cb52-43ca-be31-f6d17ced9e06",
   "metadata": {},
   "outputs": [],
   "source": [
    "data = bt.feeds.PandasData(dataname=stockData)"
   ]
  },
  {
   "cell_type": "markdown",
   "id": "5d014644-8691-4638-944c-f38c12ff9436",
   "metadata": {},
   "source": [
    "## Strategy Implementation - Buy & Hold"
   ]
  },
  {
   "cell_type": "code",
   "execution_count": 65,
   "id": "95ce5262-ae8e-4d6a-932d-b8f7dc2c7760",
   "metadata": {},
   "outputs": [],
   "source": [
    "class BuyAndHold(bt.Strategy):\n",
    "    def start(self):\n",
    "        self.val_start = self.broker.get_cash()\n",
    "    def nextstart(self):\n",
    "        size = math.floor((self.broker.get_cash() - 10) / self.data[0])\n",
    "        self.buy(size = size)\n",
    "    def stop(self):\n",
    "        self.roi = (self.broker.get_value() / self.val_start) - 1\n",
    "        print('_' * 50)\n",
    "        print('BUY & HOLD')\n",
    "        print(f'Starting Value: ${self.val_start:,.2f}')\n",
    "        print(f'ROI: {self.roi * 100.0: 2f}%')\n",
    "        print(f'Annualised: {100 * ((1+self.roi) ** (365/ (endDate - startDate).days))}')\n",
    "        print(f'Gross Return: ${self.broker.get_value() - self.val_start}')"
   ]
  },
  {
   "cell_type": "code",
   "execution_count": 67,
   "id": "6e127ce3-5a53-416a-a0f3-f98ad68d77a1",
   "metadata": {},
   "outputs": [
    {
     "data": {
      "text/plain": [
       "0"
      ]
     },
     "execution_count": 67,
     "metadata": {},
     "output_type": "execute_result"
    }
   ],
   "source": [
    "cerebro = bt.Cerebro()\n",
    "cerebro.adddata(data) # Add data feed to Cerebro\n",
    "cerebro.addstrategy(BuyAndHold) # Add Buy and Hold strategy"
   ]
  },
  {
   "cell_type": "code",
   "execution_count": 69,
   "id": "61c557b1-5ce8-493d-a31d-8aeecdffb034",
   "metadata": {},
   "outputs": [],
   "source": [
    "class FixedCommisionScheme(bt.CommInfoBase):\n",
    "    params = (\n",
    "    ('commission', 10), # Fixed commission per trade\n",
    "    ('stocklike', True), # Treat the asset like a stock\n",
    "    ('commtype', bt.CommInfoBase.COMM_FIXED) # Fixed commission type\n",
    "    )\n",
    "    def _getcommission(self, size, price, pseudoexec):\n",
    "    # Calculate commission based on fixed amount\n",
    "        return self.p.commission"
   ]
  },
  {
   "cell_type": "code",
   "execution_count": 71,
   "id": "1e4e9daa-a579-49e2-9e85-b7ab8993ba5d",
   "metadata": {},
   "outputs": [],
   "source": [
    "import datetime\n",
    "# Configure broker for the Buy and Hold strategy\n",
    "broker_args = dict(coc=True) # Enable cash-on-cash calculation\n",
    "cerebro.broker = bt.brokers.BackBroker(**broker_args)\n",
    "comminfo = FixedCommisionScheme() # Use the fixed commission scheme\n",
    "cerebro.broker.addcommissioninfo(comminfo)\n",
    "cerebro.broker.set_cash(100000) # Set initial cash"
   ]
  },
  {
   "cell_type": "code",
   "execution_count": 73,
   "id": "03a814f0-ce2f-4adb-863f-34c018ba17f3",
   "metadata": {},
   "outputs": [
    {
     "name": "stdout",
     "output_type": "stream",
     "text": [
      "__________________________________________________\n",
      "BUY & HOLD\n",
      "Starting Value: $100,000.00\n",
      "ROI:  120.406972%\n",
      "Annualised: 112.12777188581013\n",
      "Gross Return: $120406.9716796875\n"
     ]
    },
    {
     "data": {
      "text/plain": [
       "[<__main__.BuyAndHold at 0x17a030dec00>]"
      ]
     },
     "execution_count": 73,
     "metadata": {},
     "output_type": "execute_result"
    }
   ],
   "source": [
    "cerebro.run()"
   ]
  },
  {
   "cell_type": "code",
   "execution_count": 95,
   "id": "48bf456c-9503-493d-9bf9-fbd548c1c460",
   "metadata": {},
   "outputs": [
    {
     "data": {
      "text/plain": [
       "[[<Figure size 640x480 with 4 Axes>]]"
      ]
     },
     "execution_count": 95,
     "metadata": {},
     "output_type": "execute_result"
    }
   ],
   "source": [
    "cerebro.plot(iplot=False, style='candlestick')"
   ]
  },
  {
   "cell_type": "markdown",
   "id": "67726cdf-7a85-4d24-a125-5c7647418737",
   "metadata": {},
   "source": [
    "## Strategy Implementation - DCA (Dollar Cost Averaging)"
   ]
  },
  {
   "cell_type": "code",
   "execution_count": 117,
   "id": "603a8eb2-8fbf-43aa-b921-1a4273325a5f",
   "metadata": {},
   "outputs": [],
   "source": [
    "import backtrader as bt\n",
    "\n",
    "class BuyAndHold_More_Fund(bt.Strategy):\n",
    "    params = dict(\n",
    "        monthly_cash=1000,  # Amount to add monthly\n",
    "        monthly_range=[5, 20],  # Random days of the month for investment\n",
    "    )\n",
    "\n",
    "    def __init__(self):\n",
    "        # Initialize strategy variables\n",
    "        self.order = None\n",
    "        self.totalcost = 0  # Track total invested amount including commission\n",
    "        self.cost_wo_bro = 0  # Total cost excluding commissions\n",
    "        self.units = 0  # Number of units bought\n",
    "        self.times = 0  # Number of times investments were made\n",
    "\n",
    "    def log(self, txt, dt=None):\n",
    "        \"\"\"Logging function for tracking activity.\"\"\"\n",
    "        dt = dt or self.datas[0].datetime.date(0)\n",
    "        print(f'{dt.isoformat()}, {txt}')\n",
    "\n",
    "    def start(self):\n",
    "        \"\"\"Initialize broker settings.\"\"\"\n",
    "        self.broker.set_fundmode(fundmode=True, fundstartval=100.0)\n",
    "        self.cash_start = self.broker.get_cash()\n",
    "        self.val_start = 100.0\n",
    "\n",
    "        # Add a timer for monthly investments\n",
    "        self.add_timer(\n",
    "            when=bt.timer.SESSION_START,\n",
    "            monthdays=[i for i in self.p.monthly_range],\n",
    "            monthcarry=True,\n",
    "        )\n",
    "\n",
    "    def notify_timer(self, timer, when, *args):\n",
    "        \"\"\"Add monthly cash and invest.\"\"\"\n",
    "        self.broker.add_cash(self.p.monthly_cash)\n",
    "        target_value = self.broker.get_value() + self.p.monthly_cash - 10\n",
    "        self.order_target_value(target=target_value)\n",
    "\n",
    "    def notify_order(self, order):\n",
    "        \"\"\"Track order completion and log execution details.\"\"\"\n",
    "        if order.status in [order.Completed]:\n",
    "            if order.isbuy():\n",
    "                self.log(f'BUY EXECUTED, Price {order.executed.price:.2f}, Comm {order.executed.comm:.2f}')\n",
    "                self.units += order.executed.size\n",
    "                self.totalcost += order.executed.value + order.executed.comm\n",
    "                self.cost_wo_bro += order.executed.value\n",
    "                self.times += 1\n",
    "        elif order.status in [order.Canceled, order.Margin, order.Rejected]:\n",
    "            self.log('Order Canceled/Margin/Rejected')\n",
    "            self.order = None\n",
    "\n",
    "    def stop(self):\n",
    "        \"\"\"Calculate and display the performance metrics.\"\"\"\n",
    "        self.roi = (self.broker.get_value() / self.cash_start) - 1\n",
    "        self.froi = (self.broker.get_fundvalue() - self.val_start) / self.val_start\n",
    "        value = self.datas[0].close[0] * self.units + self.broker.get_cash()\n",
    "\n",
    "        # Ensure `endDate` and `actualStart` are properly defined outside the strategy.\n",
    "        print('-' * 50)\n",
    "        print('BUY & BUY MORE')\n",
    "        #print(f'Time in Market: {(endDate - StartDate).days / 365:.1f} years')\n",
    "        print(f'#Times: {self.times:.0f}')\n",
    "        print(f'Value: ${value:,.2f}')\n",
    "        print(f'Cost: ${self.totalcost:,.2f}')\n",
    "        print(f'Gross Return: ${value - self.totalcost:,.2f}')\n",
    "        print(f'Gross %: {(value / self.totalcost - 1) * 100:.2f}%')\n",
    "        print(f'ROI: {self.roi * 100.0:.2f}%')\n",
    "        print(f'Fund Value: {self.froi:.2f}%')\n",
    "        print(f'Annualised: {100 * ((1 + self.froi / 100) ** (365 / ((endDate - startDate).days))):.2f}%')\n",
    "        print('-' * 50)\n"
   ]
  },
  {
   "cell_type": "code",
   "execution_count": 119,
   "id": "78d285a6-443a-4f6d-b6b5-250ea5790afd",
   "metadata": {},
   "outputs": [
    {
     "data": {
      "text/plain": [
       "0"
      ]
     },
     "execution_count": 119,
     "metadata": {},
     "output_type": "execute_result"
    }
   ],
   "source": [
    "# BUY and BUY MORE\n",
    "cerebro1 = bt.Cerebro()\n",
    "cerebro1.adddata(data) # Add data feed to Cerebro\n",
    "cerebro1.addstrategy(BuyAndHold_More_Fund) # Add DCA strategy"
   ]
  },
  {
   "cell_type": "code",
   "execution_count": 121,
   "id": "07ed3a87-aea3-4133-a2fe-65d474d1fed8",
   "metadata": {},
   "outputs": [],
   "source": [
    "# Configure broker for the DCA strategy\n",
    "cerebro1.broker = bt.brokers.BackBroker(**broker_args)\n",
    "cerebro1.broker.addcommissioninfo(comminfo)\n",
    "cerebro1.broker.set_cash(1000) # Start with a smaller cash amount"
   ]
  },
  {
   "cell_type": "code",
   "execution_count": 123,
   "id": "02f818a3-0559-4823-a7d3-9ab59e16e7f0",
   "metadata": {},
   "outputs": [
    {
     "name": "stdout",
     "output_type": "stream",
     "text": [
      "2018-01-08, BUY EXECUTED, Price 273.42, Comm 10.00\n",
      "2018-01-23, BUY EXECUTED, Price 282.69, Comm 10.00\n",
      "2018-02-06, BUY EXECUTED, Price 263.93, Comm 10.00\n",
      "2018-02-21, BUY EXECUTED, Price 271.40, Comm 10.00\n",
      "2018-03-06, BUY EXECUTED, Price 272.19, Comm 10.00\n",
      "2018-03-21, BUY EXECUTED, Price 270.95, Comm 10.00\n",
      "2018-04-06, BUY EXECUTED, Price 265.64, Comm 10.00\n",
      "2018-04-23, BUY EXECUTED, Price 266.61, Comm 10.00\n",
      "2018-05-08, BUY EXECUTED, Price 266.92, Comm 10.00\n",
      "2018-06-06, BUY EXECUTED, Price 275.10, Comm 10.00\n",
      "2018-06-21, BUY EXECUTED, Price 275.97, Comm 10.00\n",
      "2018-07-06, BUY EXECUTED, Price 273.11, Comm 10.00\n",
      "2018-07-23, BUY EXECUTED, Price 279.68, Comm 10.00\n",
      "2018-08-07, BUY EXECUTED, Price 284.64, Comm 10.00\n",
      "2018-09-06, BUY EXECUTED, Price 289.03, Comm 10.00\n",
      "2018-09-21, BUY EXECUTED, Price 293.58, Comm 10.00\n",
      "2018-10-08, BUY EXECUTED, Price 287.82, Comm 10.00\n",
      "2018-10-23, BUY EXECUTED, Price 275.01, Comm 10.00\n",
      "2018-11-06, BUY EXECUTED, Price 273.39, Comm 10.00\n",
      "2018-11-21, BUY EXECUTED, Price 264.12, Comm 10.00\n",
      "2018-12-07, BUY EXECUTED, Price 269.84, Comm 10.00\n",
      "2019-01-08, BUY EXECUTED, Price 254.38, Comm 10.00\n",
      "2019-02-06, BUY EXECUTED, Price 273.10, Comm 10.00\n",
      "2019-02-21, BUY EXECUTED, Price 278.41, Comm 10.00\n",
      "2019-03-06, BUY EXECUTED, Price 279.02, Comm 10.00\n",
      "2019-03-21, BUY EXECUTED, Price 281.55, Comm 10.00\n",
      "2019-04-08, BUY EXECUTED, Price 288.57, Comm 10.00\n",
      "2019-04-23, BUY EXECUTED, Price 290.27, Comm 10.00\n",
      "2019-05-07, BUY EXECUTED, Price 292.82, Comm 10.00\n",
      "2019-06-06, BUY EXECUTED, Price 282.96, Comm 10.00\n",
      "2019-06-21, BUY EXECUTED, Price 295.86, Comm 10.00\n",
      "2019-07-08, BUY EXECUTED, Price 298.46, Comm 10.00\n",
      "2019-07-23, BUY EXECUTED, Price 297.90, Comm 10.00\n",
      "2019-08-06, BUY EXECUTED, Price 283.82, Comm 10.00\n",
      "2019-08-21, BUY EXECUTED, Price 290.09, Comm 10.00\n",
      "2019-09-06, BUY EXECUTED, Price 297.82, Comm 10.00\n",
      "2019-09-23, BUY EXECUTED, Price 298.28, Comm 10.00\n",
      "2019-10-08, BUY EXECUTED, Price 293.08, Comm 10.00\n",
      "2019-11-06, BUY EXECUTED, Price 307.03, Comm 10.00\n",
      "2019-11-21, BUY EXECUTED, Price 310.77, Comm 10.00\n",
      "2019-12-06, BUY EXECUTED, Price 312.02, Comm 10.00\n",
      "2019-12-23, BUY EXECUTED, Price 320.73, Comm 10.00\n",
      "2020-01-07, BUY EXECUTED, Price 323.64, Comm 10.00\n",
      "2020-02-06, BUY EXECUTED, Price 332.86, Comm 10.00\n",
      "2020-02-21, BUY EXECUTED, Price 336.95, Comm 10.00\n",
      "2020-03-06, BUY EXECUTED, Price 302.46, Comm 10.00\n",
      "2020-03-23, BUY EXECUTED, Price 228.80, Comm 10.00\n",
      "2020-04-07, BUY EXECUTED, Price 264.86, Comm 10.00\n",
      "2020-05-06, BUY EXECUTED, Price 286.19, Comm 10.00\n",
      "2020-05-21, BUY EXECUTED, Price 296.93, Comm 10.00\n",
      "2020-06-08, BUY EXECUTED, Price 319.34, Comm 10.00\n",
      "2020-06-23, BUY EXECUTED, Price 310.62, Comm 10.00\n",
      "2020-07-07, BUY EXECUTED, Price 317.05, Comm 10.00\n",
      "2020-08-06, BUY EXECUTED, Price 332.11, Comm 10.00\n",
      "2020-08-21, BUY EXECUTED, Price 338.28, Comm 10.00\n",
      "2020-09-09, BUY EXECUTED, Price 333.21, Comm 10.00\n",
      "2020-10-06, BUY EXECUTED, Price 339.76, Comm 10.00\n",
      "2020-10-21, BUY EXECUTED, Price 343.38, Comm 10.00\n",
      "2020-11-06, BUY EXECUTED, Price 350.24, Comm 10.00\n",
      "2020-11-23, BUY EXECUTED, Price 355.33, Comm 10.00\n",
      "2020-12-08, BUY EXECUTED, Price 369.09, Comm 10.00\n",
      "2021-01-06, BUY EXECUTED, Price 371.33, Comm 10.00\n",
      "2021-01-21, BUY EXECUTED, Price 383.89, Comm 10.00\n",
      "2021-02-08, BUY EXECUTED, Price 387.71, Comm 10.00\n",
      "2021-02-23, BUY EXECUTED, Price 387.03, Comm 10.00\n",
      "2021-03-08, BUY EXECUTED, Price 383.63, Comm 10.00\n",
      "2021-03-23, BUY EXECUTED, Price 392.59, Comm 10.00\n",
      "2021-04-06, BUY EXECUTED, Price 406.36, Comm 10.00\n",
      "2021-04-21, BUY EXECUTED, Price 412.17, Comm 10.00\n",
      "2021-05-06, BUY EXECUTED, Price 415.75, Comm 10.00\n",
      "2021-05-21, BUY EXECUTED, Price 415.28, Comm 10.00\n",
      "2021-06-08, BUY EXECUTED, Price 422.19, Comm 10.00\n",
      "2021-07-07, BUY EXECUTED, Price 432.93, Comm 10.00\n",
      "2021-08-06, BUY EXECUTED, Price 441.76, Comm 10.00\n",
      "2021-08-23, BUY EXECUTED, Price 443.36, Comm 10.00\n",
      "2021-09-08, BUY EXECUTED, Price 451.46, Comm 10.00\n",
      "2021-10-06, BUY EXECUTED, Price 433.10, Comm 10.00\n",
      "2021-10-21, BUY EXECUTED, Price 452.41, Comm 10.00\n",
      "2021-11-08, BUY EXECUTED, Price 468.53, Comm 10.00\n",
      "2021-11-23, BUY EXECUTED, Price 467.57, Comm 10.00\n",
      "2021-12-07, BUY EXECUTED, Price 458.79, Comm 10.00\n",
      "2022-01-06, BUY EXECUTED, Price 468.38, Comm 10.00\n",
      "2022-01-21, BUY EXECUTED, Price 446.75, Comm 10.00\n",
      "2022-02-08, BUY EXECUTED, Price 447.26, Comm 10.00\n",
      "2022-03-08, BUY EXECUTED, Price 419.43, Comm 10.00\n",
      "2022-04-06, BUY EXECUTED, Price 451.03, Comm 10.00\n",
      "2022-04-21, BUY EXECUTED, Price 444.71, Comm 10.00\n",
      "2022-05-06, BUY EXECUTED, Price 413.81, Comm 10.00\n",
      "2022-05-23, BUY EXECUTED, Price 389.63, Comm 10.00\n",
      "2022-06-07, BUY EXECUTED, Price 411.79, Comm 10.00\n",
      "2022-07-06, BUY EXECUTED, Price 381.96, Comm 10.00\n",
      "2022-07-21, BUY EXECUTED, Price 394.77, Comm 10.00\n",
      "2022-08-08, BUY EXECUTED, Price 413.47, Comm 10.00\n",
      "2022-08-23, BUY EXECUTED, Price 413.35, Comm 10.00\n",
      "2022-09-07, BUY EXECUTED, Price 390.76, Comm 10.00\n",
      "2022-10-06, BUY EXECUTED, Price 377.09, Comm 10.00\n",
      "2022-10-21, BUY EXECUTED, Price 365.41, Comm 10.00\n",
      "2022-11-08, BUY EXECUTED, Price 379.95, Comm 10.00\n",
      "2022-12-06, BUY EXECUTED, Price 399.59, Comm 10.00\n",
      "2022-12-21, BUY EXECUTED, Price 380.54, Comm 10.00\n",
      "2023-01-06, BUY EXECUTED, Price 379.38, Comm 10.00\n",
      "2023-01-23, BUY EXECUTED, Price 395.88, Comm 10.00\n",
      "2023-02-07, BUY EXECUTED, Price 409.83, Comm 10.00\n",
      "2023-03-07, BUY EXECUTED, Price 404.47, Comm 10.00\n",
      "2023-04-06, BUY EXECUTED, Price 407.60, Comm 10.00\n",
      "2023-04-21, BUY EXECUTED, Price 411.88, Comm 10.00\n",
      "2023-05-08, BUY EXECUTED, Price 412.63, Comm 10.00\n",
      "2023-05-23, BUY EXECUTED, Price 418.79, Comm 10.00\n",
      "2023-06-06, BUY EXECUTED, Price 427.10, Comm 10.00\n",
      "2023-06-21, BUY EXECUTED, Price 437.18, Comm 10.00\n",
      "2023-07-06, BUY EXECUTED, Price 443.13, Comm 10.00\n",
      "2023-07-21, BUY EXECUTED, Price 452.18, Comm 10.00\n",
      "2023-08-08, BUY EXECUTED, Price 450.71, Comm 10.00\n",
      "2023-09-06, BUY EXECUTED, Price 449.24, Comm 10.00\n",
      "2023-09-21, BUY EXECUTED, Price 438.64, Comm 10.00\n",
      "2023-10-06, BUY EXECUTED, Price 424.50, Comm 10.00\n",
      "2023-10-23, BUY EXECUTED, Price 421.19, Comm 10.00\n",
      "2023-11-07, BUY EXECUTED, Price 435.69, Comm 10.00\n",
      "2023-12-06, BUY EXECUTED, Price 456.60, Comm 10.00\n",
      "2023-12-21, BUY EXECUTED, Price 468.26, Comm 10.00\n",
      "2024-01-08, BUY EXECUTED, Price 467.92, Comm 10.00\n",
      "2024-01-23, BUY EXECUTED, Price 483.45, Comm 10.00\n",
      "2024-02-06, BUY EXECUTED, Price 492.55, Comm 10.00\n",
      "2024-02-21, BUY EXECUTED, Price 496.76, Comm 10.00\n",
      "2024-03-06, BUY EXECUTED, Price 507.18, Comm 10.00\n",
      "2024-03-21, BUY EXECUTED, Price 520.48, Comm 10.00\n",
      "2024-04-08, BUY EXECUTED, Price 518.43, Comm 10.00\n",
      "2024-04-23, BUY EXECUTED, Price 499.72, Comm 10.00\n",
      "2024-05-07, BUY EXECUTED, Price 516.57, Comm 10.00\n",
      "2024-06-06, BUY EXECUTED, Price 534.67, Comm 10.00\n",
      "2024-06-21, BUY EXECUTED, Price 547.00, Comm 10.00\n",
      "2024-07-08, BUY EXECUTED, Price 554.64, Comm 10.00\n",
      "2024-07-23, BUY EXECUTED, Price 554.65, Comm 10.00\n",
      "2024-08-06, BUY EXECUTED, Price 517.38, Comm 10.00\n",
      "2024-08-21, BUY EXECUTED, Price 558.70, Comm 10.00\n",
      "2024-09-06, BUY EXECUTED, Price 549.61, Comm 10.00\n",
      "2024-09-23, BUY EXECUTED, Price 568.25, Comm 10.00\n",
      "2024-10-08, BUY EXECUTED, Price 567.80, Comm 10.00\n",
      "2024-11-06, BUY EXECUTED, Price 576.70, Comm 10.00\n",
      "2024-11-21, BUY EXECUTED, Price 590.50, Comm 10.00\n",
      "--------------------------------------------------\n",
      "BUY & BUY MORE\n",
      "#Times: 140\n",
      "Value: $231,825.20\n",
      "Cost: $140,922.02\n",
      "Gross Return: $90,903.18\n",
      "Gross %: 64.51%\n",
      "ROI: 23082.52%\n",
      "Fund Value: 1.10%\n",
      "Annualised: 100.16%\n",
      "--------------------------------------------------\n"
     ]
    },
    {
     "data": {
      "text/plain": [
       "[<__main__.BuyAndHold_More_Fund at 0x17a0627b740>]"
      ]
     },
     "execution_count": 123,
     "metadata": {},
     "output_type": "execute_result"
    }
   ],
   "source": [
    "# Run strategies\n",
    "cerebro1.run()"
   ]
  },
  {
   "cell_type": "code",
   "execution_count": 125,
   "id": "9336610d-199f-48ad-8065-b37a98a5bcf1",
   "metadata": {},
   "outputs": [
    {
     "data": {
      "text/plain": [
       "[[<Figure size 640x480 with 4 Axes>]]"
      ]
     },
     "execution_count": 125,
     "metadata": {},
     "output_type": "execute_result"
    }
   ],
   "source": [
    "cerebro1.plot(iplot=False, style='candlestick') # Visualize DCA"
   ]
  },
  {
   "cell_type": "code",
   "execution_count": null,
   "id": "6506d082-75cd-457d-b016-e5191c949105",
   "metadata": {},
   "outputs": [],
   "source": []
  }
 ],
 "metadata": {
  "kernelspec": {
   "display_name": "Python 3 (ipykernel)",
   "language": "python",
   "name": "python3"
  },
  "language_info": {
   "codemirror_mode": {
    "name": "ipython",
    "version": 3
   },
   "file_extension": ".py",
   "mimetype": "text/x-python",
   "name": "python",
   "nbconvert_exporter": "python",
   "pygments_lexer": "ipython3",
   "version": "3.12.3"
  }
 },
 "nbformat": 4,
 "nbformat_minor": 5
}
